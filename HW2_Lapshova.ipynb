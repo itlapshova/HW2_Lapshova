{
 "cells": [
  {
   "cell_type": "markdown",
   "metadata": {},
   "source": [
    "# Домашнее задание №2"
   ]
  },
  {
   "cell_type": "markdown",
   "metadata": {},
   "source": [
    "### Пункт 1. Создание таблицы payments в базе данных SQL"
   ]
  },
  {
   "cell_type": "markdown",
   "metadata": {},
   "source": [
    "#### В ячейку ниже впишите в двойных кавычках (\" \"):\n",
    "* в переменную **_my__path_** путь вашей папки, в которой расположены папки *applications* и *contracts* (в путь включается название самой папки, в текущем примере папка со всеми данными называется IT)\n",
    "* в переменную **_mydatabase_** название созданной вами базы данных\n",
    "* в переменную **_mypassword_** ваш пользовательский пароль для работы с MySQL\n",
    "* в переменную **_myuser_** ваше имя пользователя MySQL (по умолчанию *root*)"
   ]
  },
  {
   "cell_type": "code",
   "execution_count": 1,
   "metadata": {},
   "outputs": [],
   "source": [
    "my_path = \"C:/Users/plaps/Desktop/IT\"\n",
    "mydatabase = \"loan\"\n",
    "mypassword = \"MySQL2018\"\n",
    "myuser = \"root\""
   ]
  },
  {
   "cell_type": "markdown",
   "metadata": {},
   "source": [
    "Для ознакомления ниже обозначены переменные, задаваемые пользователем, далее при выполнении кода он сможет сам ввести нужные значения"
   ]
  },
  {
   "cell_type": "code",
   "execution_count": 2,
   "metadata": {},
   "outputs": [],
   "source": [
    "# Горизонт риска может быть задан как одной из данных переменных, так и их сочетанием\n",
    "\n",
    "#years = 1\n",
    "#months = 8\n",
    "#days = 0"
   ]
  },
  {
   "cell_type": "code",
   "execution_count": 3,
   "metadata": {},
   "outputs": [],
   "source": [
    "#var_name = 'age' - переменная, по которой будет построена метрика\n",
    "#graph_type = 'WOE' - тип метрики, которую пользователь хочет построить\n",
    "#max_tresholds = 1000 # если ROC, выбирает такое кол-во порогов  отсечения \n",
    "                                                    #(переменная является классификатором), \n",
    "                                                    # можно задать любым числом, но чем больше число, тем дольше будет выполнение\n",
    "#max_bin = 10 # если WOE и разбиваем на категории (максимальное число категорий)\n",
    "#force_bin = 5  # если WOE и разбиваем на категории (минимальное число категорий)"
   ]
  },
  {
   "cell_type": "code",
   "execution_count": 4,
   "metadata": {},
   "outputs": [],
   "source": [
    "import pandas as pd\n",
    "import numpy as np\n",
    "from os import listdir\n",
    "from os.path import isfile, join\n",
    "from datetime import datetime\n",
    "from dateutil.relativedelta import relativedelta\n",
    "from dateutil.parser import parse\n",
    "from IPython.display import display, HTML\n",
    "from sklearn import preprocessing\n",
    "from datetime import timedelta\n",
    "import mysql\n",
    "import mysql.connector\n",
    "from mysql.connector import Error\n",
    "import pandas.core.algorithms as algos\n",
    "from pandas import Series\n",
    "import scipy.stats.stats as stats\n",
    "import re\n",
    "import traceback\n",
    "import string\n",
    "import matplotlib.pyplot as plt\n",
    "from sklearn import metrics\n",
    "import statistics\n",
    "import matplotlib as matplotlib\n",
    "from decimal import Decimal"
   ]
  },
  {
   "cell_type": "code",
   "execution_count": 5,
   "metadata": {},
   "outputs": [
    {
     "data": {
      "text/html": [
       "<div>\n",
       "<style scoped>\n",
       "    .dataframe tbody tr th:only-of-type {\n",
       "        vertical-align: middle;\n",
       "    }\n",
       "\n",
       "    .dataframe tbody tr th {\n",
       "        vertical-align: top;\n",
       "    }\n",
       "\n",
       "    .dataframe thead th {\n",
       "        text-align: right;\n",
       "    }\n",
       "</style>\n",
       "<table border=\"1\" class=\"dataframe\">\n",
       "  <thead>\n",
       "    <tr style=\"text-align: right;\">\n",
       "      <th></th>\n",
       "      <th>Contract Number</th>\n",
       "      <th>Date</th>\n",
       "      <th>Amount Due</th>\n",
       "      <th>Amount Paid</th>\n",
       "    </tr>\n",
       "  </thead>\n",
       "  <tbody>\n",
       "    <tr>\n",
       "      <th>0</th>\n",
       "      <td>100875</td>\n",
       "      <td>2016-04-05</td>\n",
       "      <td>24700.5</td>\n",
       "      <td>24700.5</td>\n",
       "    </tr>\n",
       "    <tr>\n",
       "      <th>1</th>\n",
       "      <td>100875</td>\n",
       "      <td>2016-05-05</td>\n",
       "      <td>24700.5</td>\n",
       "      <td>24700.5</td>\n",
       "    </tr>\n",
       "    <tr>\n",
       "      <th>2</th>\n",
       "      <td>100875</td>\n",
       "      <td>2016-06-05</td>\n",
       "      <td>24700.5</td>\n",
       "      <td>0.0</td>\n",
       "    </tr>\n",
       "    <tr>\n",
       "      <th>3</th>\n",
       "      <td>100875</td>\n",
       "      <td>2016-07-05</td>\n",
       "      <td>24700.5</td>\n",
       "      <td>0.0</td>\n",
       "    </tr>\n",
       "    <tr>\n",
       "      <th>4</th>\n",
       "      <td>100875</td>\n",
       "      <td>2016-08-05</td>\n",
       "      <td>24700.5</td>\n",
       "      <td>74101.5</td>\n",
       "    </tr>\n",
       "  </tbody>\n",
       "</table>\n",
       "</div>"
      ],
      "text/plain": [
       "   Contract Number       Date  Amount Due  Amount Paid\n",
       "0           100875 2016-04-05     24700.5      24700.5\n",
       "1           100875 2016-05-05     24700.5      24700.5\n",
       "2           100875 2016-06-05     24700.5          0.0\n",
       "3           100875 2016-07-05     24700.5          0.0\n",
       "4           100875 2016-08-05     24700.5      74101.5"
      ]
     },
     "execution_count": 5,
     "metadata": {},
     "output_type": "execute_result"
    }
   ],
   "source": [
    "payments = pd.read_excel(my_path+\"/payments.xls\")\n",
    "payments.head()"
   ]
  },
  {
   "cell_type": "code",
   "execution_count": 6,
   "metadata": {},
   "outputs": [],
   "source": [
    "# подключаемся к базе данных\n",
    "database = mysql.connector.connect(user=myuser, password=mypassword,\n",
    "                              host='localhost',\n",
    "                              database=mydatabase,auth_plugin='mysql_native_password')\n",
    "mycursor = database.cursor(buffered=True)"
   ]
  },
  {
   "cell_type": "code",
   "execution_count": 7,
   "metadata": {},
   "outputs": [],
   "source": [
    "# создаем таблицу платежей (заданный порядок переменных важен, менять нельзя)\n",
    "mycursor.execute(\n",
    "\"\"\"CREATE TABLE payments (contract_number INT, payment_date DATE, amount_due DECIMAL(18,2), amount_paid DECIMAL(18,2))\"\"\")"
   ]
  },
  {
   "cell_type": "code",
   "execution_count": 8,
   "metadata": {},
   "outputs": [],
   "source": [
    "sql = \"INSERT INTO payments VALUES (%s, %s, %s, %s)\"\n",
    "for i in range(0, payments.shape[0]):\n",
    "    val = (int(payments.iloc[i]['Contract Number']), payments.iloc[i]['Date'], payments.iloc[i]['Amount Due'],\n",
    "                payments.iloc[i]['Amount Paid'])\n",
    "    mycursor.execute(sql, val)\n",
    "\n",
    "    database.commit()"
   ]
  },
  {
   "cell_type": "code",
   "execution_count": 9,
   "metadata": {},
   "outputs": [],
   "source": [
    "database.close()"
   ]
  },
  {
   "cell_type": "markdown",
   "metadata": {},
   "source": [
    "### Пункт 2. Соединение с базой данных SQL"
   ]
  },
  {
   "cell_type": "markdown",
   "metadata": {},
   "source": [
    "Проверим, что таблица появилась в базе данных и посмотрим, как она выглядит:"
   ]
  },
  {
   "cell_type": "code",
   "execution_count": 10,
   "metadata": {},
   "outputs": [],
   "source": [
    "# подключаемся к базе данных\n",
    "database = mysql.connector.connect(user=myuser, password=mypassword,\n",
    "                              host='localhost',\n",
    "                              database=mydatabase,auth_plugin='mysql_native_password')\n",
    "mycursor = database.cursor(buffered=True)"
   ]
  },
  {
   "cell_type": "code",
   "execution_count": 11,
   "metadata": {},
   "outputs": [],
   "source": [
    "mycursor.execute(\"SELECT * FROM payments\")\n",
    "payments = pd.DataFrame(mycursor.fetchall())\n",
    "payments.columns = [i[0] for i in mycursor.description]"
   ]
  },
  {
   "cell_type": "code",
   "execution_count": 12,
   "metadata": {},
   "outputs": [
    {
     "data": {
      "text/html": [
       "<div>\n",
       "<style scoped>\n",
       "    .dataframe tbody tr th:only-of-type {\n",
       "        vertical-align: middle;\n",
       "    }\n",
       "\n",
       "    .dataframe tbody tr th {\n",
       "        vertical-align: top;\n",
       "    }\n",
       "\n",
       "    .dataframe thead th {\n",
       "        text-align: right;\n",
       "    }\n",
       "</style>\n",
       "<table border=\"1\" class=\"dataframe\">\n",
       "  <thead>\n",
       "    <tr style=\"text-align: right;\">\n",
       "      <th></th>\n",
       "      <th>contract_number</th>\n",
       "      <th>payment_date</th>\n",
       "      <th>amount_due</th>\n",
       "      <th>amount_paid</th>\n",
       "    </tr>\n",
       "  </thead>\n",
       "  <tbody>\n",
       "    <tr>\n",
       "      <th>0</th>\n",
       "      <td>100875</td>\n",
       "      <td>2016-04-05</td>\n",
       "      <td>24700.50</td>\n",
       "      <td>24700.50</td>\n",
       "    </tr>\n",
       "    <tr>\n",
       "      <th>1</th>\n",
       "      <td>100875</td>\n",
       "      <td>2016-05-05</td>\n",
       "      <td>24700.50</td>\n",
       "      <td>24700.50</td>\n",
       "    </tr>\n",
       "    <tr>\n",
       "      <th>2</th>\n",
       "      <td>100875</td>\n",
       "      <td>2016-06-05</td>\n",
       "      <td>24700.50</td>\n",
       "      <td>0.00</td>\n",
       "    </tr>\n",
       "    <tr>\n",
       "      <th>3</th>\n",
       "      <td>100875</td>\n",
       "      <td>2016-07-05</td>\n",
       "      <td>24700.50</td>\n",
       "      <td>0.00</td>\n",
       "    </tr>\n",
       "    <tr>\n",
       "      <th>4</th>\n",
       "      <td>100875</td>\n",
       "      <td>2016-08-05</td>\n",
       "      <td>24700.50</td>\n",
       "      <td>74101.50</td>\n",
       "    </tr>\n",
       "  </tbody>\n",
       "</table>\n",
       "</div>"
      ],
      "text/plain": [
       "   contract_number payment_date amount_due amount_paid\n",
       "0           100875   2016-04-05   24700.50    24700.50\n",
       "1           100875   2016-05-05   24700.50    24700.50\n",
       "2           100875   2016-06-05   24700.50        0.00\n",
       "3           100875   2016-07-05   24700.50        0.00\n",
       "4           100875   2016-08-05   24700.50    74101.50"
      ]
     },
     "execution_count": 12,
     "metadata": {},
     "output_type": "execute_result"
    }
   ],
   "source": [
    "payments.head()"
   ]
  },
  {
   "cell_type": "markdown",
   "metadata": {},
   "source": [
    "### Пункт 3 (a). Поиск просрочек 90+ по таблице payments"
   ]
  },
  {
   "cell_type": "markdown",
   "metadata": {},
   "source": [
    "По запрошенной в предыдущем пункте таблице найдём моменты просрочки 90+ через куммулятивную сумму дисбаланса между тем, что было выплачено и тем, что должно было быть уплачено по контракту на дату. Критерием определения просрочки 90+ служит отрицательный куммулятивный баланс на протяжении 4 периодов подряд, момент дефолта - дата 4-го наблюдаемого подряд дисбаланса."
   ]
  },
  {
   "cell_type": "code",
   "execution_count": 13,
   "metadata": {},
   "outputs": [],
   "source": [
    "payments['cumulative_disbalance'] = np.nan\n",
    "payments['default'] = np.nan\n",
    "contract_numbers = payments['contract_number'].drop_duplicates().reset_index(drop = True)"
   ]
  },
  {
   "cell_type": "code",
   "execution_count": 14,
   "metadata": {},
   "outputs": [],
   "source": [
    "for i in contract_numbers:\n",
    "    contract_index = payments.index[payments['contract_number'] == i].tolist()\n",
    "    sum_disb = 0\n",
    "    counter = 0\n",
    "    for j in contract_index:\n",
    "        new_sum = payments.iloc[j, payments.columns.get_loc('cumulative_disbalance')] = sum_disb + payments['amount_paid'].iloc[j]-payments['amount_due'].iloc[j]\n",
    "        sum_disb = new_sum\n",
    "        if new_sum < 0:\n",
    "            counter = counter + 1\n",
    "        else: \n",
    "            counter = 0\n",
    "        if counter == 4:\n",
    "            payments.iloc[j, payments.columns.get_loc('default')] = 1\n",
    "        else:\n",
    "            payments.iloc[j, payments.columns.get_loc('default')] = 0"
   ]
  },
  {
   "cell_type": "markdown",
   "metadata": {},
   "source": [
    "Посмотрим на обновленную (в питоне, не в БД) таблицу с флагами дефолтов по контрактам (1 - дефолт, 0 - не дефолт):"
   ]
  },
  {
   "cell_type": "code",
   "execution_count": 15,
   "metadata": {},
   "outputs": [
    {
     "data": {
      "text/html": [
       "<div>\n",
       "<style scoped>\n",
       "    .dataframe tbody tr th:only-of-type {\n",
       "        vertical-align: middle;\n",
       "    }\n",
       "\n",
       "    .dataframe tbody tr th {\n",
       "        vertical-align: top;\n",
       "    }\n",
       "\n",
       "    .dataframe thead th {\n",
       "        text-align: right;\n",
       "    }\n",
       "</style>\n",
       "<table border=\"1\" class=\"dataframe\">\n",
       "  <thead>\n",
       "    <tr style=\"text-align: right;\">\n",
       "      <th></th>\n",
       "      <th>contract_number</th>\n",
       "      <th>payment_date</th>\n",
       "      <th>amount_due</th>\n",
       "      <th>amount_paid</th>\n",
       "      <th>cumulative_disbalance</th>\n",
       "      <th>default</th>\n",
       "    </tr>\n",
       "  </thead>\n",
       "  <tbody>\n",
       "    <tr>\n",
       "      <th>0</th>\n",
       "      <td>100875</td>\n",
       "      <td>2016-04-05</td>\n",
       "      <td>24700.50</td>\n",
       "      <td>24700.50</td>\n",
       "      <td>0.00</td>\n",
       "      <td>0.0</td>\n",
       "    </tr>\n",
       "    <tr>\n",
       "      <th>1</th>\n",
       "      <td>100875</td>\n",
       "      <td>2016-05-05</td>\n",
       "      <td>24700.50</td>\n",
       "      <td>24700.50</td>\n",
       "      <td>0.00</td>\n",
       "      <td>0.0</td>\n",
       "    </tr>\n",
       "    <tr>\n",
       "      <th>2</th>\n",
       "      <td>100875</td>\n",
       "      <td>2016-06-05</td>\n",
       "      <td>24700.50</td>\n",
       "      <td>0.00</td>\n",
       "      <td>-24700.50</td>\n",
       "      <td>0.0</td>\n",
       "    </tr>\n",
       "    <tr>\n",
       "      <th>3</th>\n",
       "      <td>100875</td>\n",
       "      <td>2016-07-05</td>\n",
       "      <td>24700.50</td>\n",
       "      <td>0.00</td>\n",
       "      <td>-49401.00</td>\n",
       "      <td>0.0</td>\n",
       "    </tr>\n",
       "    <tr>\n",
       "      <th>4</th>\n",
       "      <td>100875</td>\n",
       "      <td>2016-08-05</td>\n",
       "      <td>24700.50</td>\n",
       "      <td>74101.50</td>\n",
       "      <td>0.00</td>\n",
       "      <td>0.0</td>\n",
       "    </tr>\n",
       "  </tbody>\n",
       "</table>\n",
       "</div>"
      ],
      "text/plain": [
       "   contract_number payment_date amount_due amount_paid cumulative_disbalance  \\\n",
       "0           100875   2016-04-05   24700.50    24700.50                  0.00   \n",
       "1           100875   2016-05-05   24700.50    24700.50                  0.00   \n",
       "2           100875   2016-06-05   24700.50        0.00             -24700.50   \n",
       "3           100875   2016-07-05   24700.50        0.00             -49401.00   \n",
       "4           100875   2016-08-05   24700.50    74101.50                  0.00   \n",
       "\n",
       "   default  \n",
       "0      0.0  \n",
       "1      0.0  \n",
       "2      0.0  \n",
       "3      0.0  \n",
       "4      0.0  "
      ]
     },
     "execution_count": 15,
     "metadata": {},
     "output_type": "execute_result"
    }
   ],
   "source": [
    "payments.head()"
   ]
  },
  {
   "cell_type": "markdown",
   "metadata": {},
   "source": [
    "### Пункт 3 (f). Создание таблицы по дефолтам в БД"
   ]
  },
  {
   "cell_type": "markdown",
   "metadata": {},
   "source": [
    "Создаем таблицу с дефолтными контрактами следующего вида, отправляем её в БД. В данной таблице содержатся только дефолтные контракты, их даты, куммулятивный дисбаланс на дату"
   ]
  },
  {
   "cell_type": "code",
   "execution_count": 16,
   "metadata": {},
   "outputs": [
    {
     "data": {
      "text/html": [
       "<div>\n",
       "<style scoped>\n",
       "    .dataframe tbody tr th:only-of-type {\n",
       "        vertical-align: middle;\n",
       "    }\n",
       "\n",
       "    .dataframe tbody tr th {\n",
       "        vertical-align: top;\n",
       "    }\n",
       "\n",
       "    .dataframe thead th {\n",
       "        text-align: right;\n",
       "    }\n",
       "</style>\n",
       "<table border=\"1\" class=\"dataframe\">\n",
       "  <thead>\n",
       "    <tr style=\"text-align: right;\">\n",
       "      <th></th>\n",
       "      <th>contract_number</th>\n",
       "      <th>default_date</th>\n",
       "      <th>cumulative_disbalance</th>\n",
       "    </tr>\n",
       "  </thead>\n",
       "  <tbody>\n",
       "    <tr>\n",
       "      <th>0</th>\n",
       "      <td>100875</td>\n",
       "      <td>2017-03-05</td>\n",
       "      <td>-98802.00</td>\n",
       "    </tr>\n",
       "    <tr>\n",
       "      <th>1</th>\n",
       "      <td>100684</td>\n",
       "      <td>2017-12-14</td>\n",
       "      <td>-108306.00</td>\n",
       "    </tr>\n",
       "    <tr>\n",
       "      <th>2</th>\n",
       "      <td>100052</td>\n",
       "      <td>2017-12-30</td>\n",
       "      <td>-140112.00</td>\n",
       "    </tr>\n",
       "    <tr>\n",
       "      <th>3</th>\n",
       "      <td>100375</td>\n",
       "      <td>2017-01-02</td>\n",
       "      <td>-65034.00</td>\n",
       "    </tr>\n",
       "    <tr>\n",
       "      <th>4</th>\n",
       "      <td>100901</td>\n",
       "      <td>2016-11-03</td>\n",
       "      <td>-171882.00</td>\n",
       "    </tr>\n",
       "    <tr>\n",
       "      <th>5</th>\n",
       "      <td>100668</td>\n",
       "      <td>2018-06-29</td>\n",
       "      <td>-199710.00</td>\n",
       "    </tr>\n",
       "  </tbody>\n",
       "</table>\n",
       "</div>"
      ],
      "text/plain": [
       "   contract_number default_date cumulative_disbalance\n",
       "0           100875   2017-03-05             -98802.00\n",
       "1           100684   2017-12-14            -108306.00\n",
       "2           100052   2017-12-30            -140112.00\n",
       "3           100375   2017-01-02             -65034.00\n",
       "4           100901   2016-11-03            -171882.00\n",
       "5           100668   2018-06-29            -199710.00"
      ]
     },
     "execution_count": 16,
     "metadata": {},
     "output_type": "execute_result"
    }
   ],
   "source": [
    "default_table = payments[payments['default'] == 1] .reset_index(drop=True)\n",
    "default_table = default_table[['contract_number', 'payment_date', 'cumulative_disbalance']]\n",
    "default_table.columns = ['contract_number', 'default_date', 'cumulative_disbalance']\n",
    "default_table"
   ]
  },
  {
   "cell_type": "code",
   "execution_count": 17,
   "metadata": {},
   "outputs": [],
   "source": [
    "mycursor.execute(\"\"\"CREATE TABLE defaults (contract_number INT, default_date DATE, cumulative_disbalance\n",
    " DECIMAL(18,2), PRIMARY KEY (contract_number) )\"\"\")"
   ]
  },
  {
   "cell_type": "code",
   "execution_count": 18,
   "metadata": {},
   "outputs": [],
   "source": [
    "sql = \"INSERT INTO defaults VALUES (%s, %s, %s)\"\n",
    "for i in range(0, default_table.shape[0]):\n",
    "    val = (int(default_table.iloc[i]['contract_number']), default_table.iloc[i]['default_date'], \n",
    "           default_table.iloc[i]['cumulative_disbalance'])\n",
    "    mycursor.execute(sql, val)\n",
    "    database.commit()"
   ]
  },
  {
   "cell_type": "markdown",
   "metadata": {},
   "source": [
    "### Пункт 3 (b). Задайте свой горизонт риска"
   ]
  },
  {
   "cell_type": "markdown",
   "metadata": {},
   "source": [
    "В ячейке ниже задайте свой горизонт риска. Вы можете задавать его в нескольких вариантах: в годах, в месяцах, в днях или добавить числа во все три временные переменные, будет учтена их сумма во времени. Важным условием является целочисленность вводимых параметров и чтобы горизонт риска был не меньше 90 дней."
   ]
  },
  {
   "cell_type": "code",
   "execution_count": 19,
   "metadata": {},
   "outputs": [],
   "source": [
    "years = 1\n",
    "months = 8\n",
    "days = 0"
   ]
  },
  {
   "cell_type": "code",
   "execution_count": 20,
   "metadata": {},
   "outputs": [],
   "source": [
    "if type(years) != int or type(months) != int or type(days) != int:\n",
    "    print('Ошибка: задайте целочисленные параметры!')"
   ]
  },
  {
   "cell_type": "markdown",
   "metadata": {},
   "source": [
    "Выбираем на временном отрезке не менее заданного горизонта риска данные из объединенных таблиц applications, contracts и defaults  (только те данные, где известна дата начала контракта и длительность в месяцах). Получаем полную таблицу по заёмщику со всеми его характеристиками, включая метку с флагом дефолт - 1, не дефолт - 0 на заданном горизонте риска"
   ]
  },
  {
   "cell_type": "code",
   "execution_count": 21,
   "metadata": {},
   "outputs": [],
   "source": [
    "mycursor.execute(\"\"\"SELECT * FROM \n",
    "(SELECT DISTINCT applications.*, contracts.contract_number, contracts.amount, contracts.term_month, contracts.annuity, \n",
    "contracts.contract_date, contracts.type, defaults.default_date  \n",
    "FROM applications\n",
    "LEFT JOIN contracts \n",
    "ON applications.id_number = contracts.id_number\n",
    "LEFT JOIN defaults\n",
    "ON contracts.contract_number = defaults.contract_number\n",
    "ORDER BY applications.id_number) t1\n",
    "WHERE (t1.contract_date IS NOT NULL) \n",
    "AND (t1.term_month IS NOT NULL) \n",
    "AND DATE_ADD(t1.contract_date, INTERVAL (t1.term_month) MONTH) >= \n",
    "DATE_ADD(DATE_ADD(DATE_ADD(t1.contract_date, INTERVAL {0} YEAR), INTERVAL {1} MONTH), INTERVAL {2} DAY)\"\"\".format(years, \n",
    "                                                                                                                  months, days))\n",
    "borrowers_defaults_data = mycursor.fetchall()\n",
    "if not borrowers_defaults_data:\n",
    "    print(\"Контракты такой длительности и более не найдены, выберите другой горизонт риска\")\n",
    "else:\n",
    "    borrowers_defaults = pd.DataFrame(borrowers_defaults_data)\n",
    "    borrowers_defaults.columns = [i[0] for i in mycursor.description]\n",
    "    borrowers_defaults['default'] = 0\n",
    "    borrowers_defaults.loc[borrowers_defaults['default_date']<= \n",
    "                           borrowers_defaults['contract_date']+relativedelta(days = days, months = months, years = years), \n",
    "                           'default'] = 1 #дефолты смотрим только на горизонте риска"
   ]
  },
  {
   "cell_type": "markdown",
   "metadata": {},
   "source": [
    "Посмотрим на часть таблицы с заёмщиками с контрактами не менее заданного горизонта риска:"
   ]
  },
  {
   "cell_type": "code",
   "execution_count": 22,
   "metadata": {},
   "outputs": [
    {
     "data": {
      "text/html": [
       "<div>\n",
       "<style scoped>\n",
       "    .dataframe tbody tr th:only-of-type {\n",
       "        vertical-align: middle;\n",
       "    }\n",
       "\n",
       "    .dataframe tbody tr th {\n",
       "        vertical-align: top;\n",
       "    }\n",
       "\n",
       "    .dataframe thead th {\n",
       "        text-align: right;\n",
       "    }\n",
       "</style>\n",
       "<table border=\"1\" class=\"dataframe\">\n",
       "  <thead>\n",
       "    <tr style=\"text-align: right;\">\n",
       "      <th></th>\n",
       "      <th>id_number</th>\n",
       "      <th>contract_number</th>\n",
       "      <th>amount</th>\n",
       "      <th>term_month</th>\n",
       "      <th>annuity</th>\n",
       "      <th>contract_date</th>\n",
       "      <th>type</th>\n",
       "      <th>default_date</th>\n",
       "      <th>default</th>\n",
       "    </tr>\n",
       "  </thead>\n",
       "  <tbody>\n",
       "    <tr>\n",
       "      <th>0</th>\n",
       "      <td>100003</td>\n",
       "      <td>100524</td>\n",
       "      <td>1293503</td>\n",
       "      <td>39</td>\n",
       "      <td>35699</td>\n",
       "      <td>2014-06-22</td>\n",
       "      <td>0</td>\n",
       "      <td>None</td>\n",
       "      <td>0</td>\n",
       "    </tr>\n",
       "    <tr>\n",
       "      <th>1</th>\n",
       "      <td>100004</td>\n",
       "      <td>100552</td>\n",
       "      <td>135000</td>\n",
       "      <td>23</td>\n",
       "      <td>6750</td>\n",
       "      <td>2017-08-01</td>\n",
       "      <td>1</td>\n",
       "      <td>None</td>\n",
       "      <td>0</td>\n",
       "    </tr>\n",
       "    <tr>\n",
       "      <th>2</th>\n",
       "      <td>100007</td>\n",
       "      <td>100797</td>\n",
       "      <td>513000</td>\n",
       "      <td>26</td>\n",
       "      <td>21866</td>\n",
       "      <td>2017-06-09</td>\n",
       "      <td>0</td>\n",
       "      <td>None</td>\n",
       "      <td>0</td>\n",
       "    </tr>\n",
       "    <tr>\n",
       "      <th>3</th>\n",
       "      <td>100008</td>\n",
       "      <td>100929</td>\n",
       "      <td>490496</td>\n",
       "      <td>21</td>\n",
       "      <td>27518</td>\n",
       "      <td>2015-03-22</td>\n",
       "      <td>0</td>\n",
       "      <td>None</td>\n",
       "      <td>0</td>\n",
       "    </tr>\n",
       "    <tr>\n",
       "      <th>4</th>\n",
       "      <td>100009</td>\n",
       "      <td>100022</td>\n",
       "      <td>1560726</td>\n",
       "      <td>41</td>\n",
       "      <td>41301</td>\n",
       "      <td>2015-02-11</td>\n",
       "      <td>0</td>\n",
       "      <td>None</td>\n",
       "      <td>0</td>\n",
       "    </tr>\n",
       "  </tbody>\n",
       "</table>\n",
       "</div>"
      ],
      "text/plain": [
       "   id_number  contract_number   amount  term_month  annuity contract_date  \\\n",
       "0     100003           100524  1293503          39    35699    2014-06-22   \n",
       "1     100004           100552   135000          23     6750    2017-08-01   \n",
       "2     100007           100797   513000          26    21866    2017-06-09   \n",
       "3     100008           100929   490496          21    27518    2015-03-22   \n",
       "4     100009           100022  1560726          41    41301    2015-02-11   \n",
       "\n",
       "   type default_date  default  \n",
       "0     0         None        0  \n",
       "1     1         None        0  \n",
       "2     0         None        0  \n",
       "3     0         None        0  \n",
       "4     0         None        0  "
      ]
     },
     "metadata": {},
     "output_type": "display_data"
    },
    {
     "name": "stdout",
     "output_type": "stream",
     "text": [
      "Всего на промежутке времени не менее горизонта риска найдено заёмщиков с контрактом - 46 ,\n",
      "в текущей таблице максимально доступно полей (включая номер id заёмщика и номер контракта) -  24\n",
      "Всего дефолтов на заданном горизонте риска - 5\n"
     ]
    }
   ],
   "source": [
    "display(borrowers_defaults[['id_number', 'contract_number', 'amount', 'term_month', 'annuity', 'contract_date', \n",
    "                            'type', 'default_date', 'default']].head())\n",
    "\n",
    "print(\"\"\"Всего на промежутке времени не менее горизонта риска найдено заёмщиков с контрактом - \"\"\" +str(borrowers_defaults.shape[0])+\"\"\" ,\n",
    "в текущей таблице максимально доступно полей (включая номер id заёмщика и номер контракта) -  \"\"\"+str(borrowers_defaults.shape[1]))\n",
    "print(\"Всего дефолтов на заданном горизонте риска - \"+str(len(borrowers_defaults.loc[borrowers_defaults['default'] == 1])))"
   ]
  },
  {
   "cell_type": "markdown",
   "metadata": {},
   "source": [
    "Посмотрим, какие из этих контрактов дефолтные:"
   ]
  },
  {
   "cell_type": "code",
   "execution_count": 23,
   "metadata": {},
   "outputs": [
    {
     "data": {
      "text/html": [
       "<div>\n",
       "<style scoped>\n",
       "    .dataframe tbody tr th:only-of-type {\n",
       "        vertical-align: middle;\n",
       "    }\n",
       "\n",
       "    .dataframe tbody tr th {\n",
       "        vertical-align: top;\n",
       "    }\n",
       "\n",
       "    .dataframe thead th {\n",
       "        text-align: right;\n",
       "    }\n",
       "</style>\n",
       "<table border=\"1\" class=\"dataframe\">\n",
       "  <thead>\n",
       "    <tr style=\"text-align: right;\">\n",
       "      <th></th>\n",
       "      <th>id_number</th>\n",
       "      <th>issue_date</th>\n",
       "      <th>children</th>\n",
       "      <th>family</th>\n",
       "      <th>income</th>\n",
       "      <th>age_of_car</th>\n",
       "      <th>application_date</th>\n",
       "      <th>age</th>\n",
       "      <th>education</th>\n",
       "      <th>employed_by</th>\n",
       "      <th>...</th>\n",
       "      <th>marital_status</th>\n",
       "      <th>position</th>\n",
       "      <th>contract_number</th>\n",
       "      <th>amount</th>\n",
       "      <th>term_month</th>\n",
       "      <th>annuity</th>\n",
       "      <th>contract_date</th>\n",
       "      <th>type</th>\n",
       "      <th>default_date</th>\n",
       "      <th>default</th>\n",
       "    </tr>\n",
       "  </thead>\n",
       "  <tbody>\n",
       "    <tr>\n",
       "      <th>17</th>\n",
       "      <td>100031</td>\n",
       "      <td>2011-12-06</td>\n",
       "      <td>0</td>\n",
       "      <td>1</td>\n",
       "      <td>112500</td>\n",
       "      <td>NaN</td>\n",
       "      <td>2016-12-06</td>\n",
       "      <td>53</td>\n",
       "      <td>2</td>\n",
       "      <td>1</td>\n",
       "      <td>...</td>\n",
       "      <td>4</td>\n",
       "      <td>2.0</td>\n",
       "      <td>100684</td>\n",
       "      <td>979992</td>\n",
       "      <td>39</td>\n",
       "      <td>27077</td>\n",
       "      <td>2016-06-14</td>\n",
       "      <td>0</td>\n",
       "      <td>2017-12-14</td>\n",
       "      <td>1</td>\n",
       "    </tr>\n",
       "    <tr>\n",
       "      <th>25</th>\n",
       "      <td>100047</td>\n",
       "      <td>2013-02-11</td>\n",
       "      <td>0</td>\n",
       "      <td>2</td>\n",
       "      <td>202500</td>\n",
       "      <td>NaN</td>\n",
       "      <td>2016-08-27</td>\n",
       "      <td>50</td>\n",
       "      <td>2</td>\n",
       "      <td>1</td>\n",
       "      <td>...</td>\n",
       "      <td>1</td>\n",
       "      <td>5.0</td>\n",
       "      <td>100052</td>\n",
       "      <td>1193580</td>\n",
       "      <td>37</td>\n",
       "      <td>35028</td>\n",
       "      <td>2016-08-30</td>\n",
       "      <td>0</td>\n",
       "      <td>2017-12-30</td>\n",
       "      <td>1</td>\n",
       "    </tr>\n",
       "    <tr>\n",
       "      <th>27</th>\n",
       "      <td>100049</td>\n",
       "      <td>2004-05-04</td>\n",
       "      <td>0</td>\n",
       "      <td>2</td>\n",
       "      <td>135000</td>\n",
       "      <td>NaN</td>\n",
       "      <td>2016-01-05</td>\n",
       "      <td>39</td>\n",
       "      <td>2</td>\n",
       "      <td>17</td>\n",
       "      <td>...</td>\n",
       "      <td>0</td>\n",
       "      <td>9.0</td>\n",
       "      <td>100375</td>\n",
       "      <td>288873</td>\n",
       "      <td>21</td>\n",
       "      <td>16259</td>\n",
       "      <td>2016-02-05</td>\n",
       "      <td>0</td>\n",
       "      <td>2017-01-02</td>\n",
       "      <td>1</td>\n",
       "    </tr>\n",
       "    <tr>\n",
       "      <th>28</th>\n",
       "      <td>100050</td>\n",
       "      <td>2003-05-18</td>\n",
       "      <td>0</td>\n",
       "      <td>1</td>\n",
       "      <td>108000</td>\n",
       "      <td>NaN</td>\n",
       "      <td>2015-11-27</td>\n",
       "      <td>67</td>\n",
       "      <td>0</td>\n",
       "      <td>25</td>\n",
       "      <td>...</td>\n",
       "      <td>3</td>\n",
       "      <td>NaN</td>\n",
       "      <td>100901</td>\n",
       "      <td>746280</td>\n",
       "      <td>20</td>\n",
       "      <td>42971</td>\n",
       "      <td>2015-03-12</td>\n",
       "      <td>0</td>\n",
       "      <td>2016-11-03</td>\n",
       "      <td>1</td>\n",
       "    </tr>\n",
       "    <tr>\n",
       "      <th>32</th>\n",
       "      <td>100056</td>\n",
       "      <td>2011-12-28</td>\n",
       "      <td>0</td>\n",
       "      <td>2</td>\n",
       "      <td>360000</td>\n",
       "      <td>3.0</td>\n",
       "      <td>2016-11-28</td>\n",
       "      <td>52</td>\n",
       "      <td>2</td>\n",
       "      <td>21</td>\n",
       "      <td>...</td>\n",
       "      <td>1</td>\n",
       "      <td>5.0</td>\n",
       "      <td>100668</td>\n",
       "      <td>1506816</td>\n",
       "      <td>33</td>\n",
       "      <td>49928</td>\n",
       "      <td>2016-11-29</td>\n",
       "      <td>0</td>\n",
       "      <td>2018-06-29</td>\n",
       "      <td>1</td>\n",
       "    </tr>\n",
       "  </tbody>\n",
       "</table>\n",
       "<p>5 rows × 24 columns</p>\n",
       "</div>"
      ],
      "text/plain": [
       "    id_number  issue_date  children  family  income  age_of_car  \\\n",
       "17     100031  2011-12-06         0       1  112500         NaN   \n",
       "25     100047  2013-02-11         0       2  202500         NaN   \n",
       "27     100049  2004-05-04         0       2  135000         NaN   \n",
       "28     100050  2003-05-18         0       1  108000         NaN   \n",
       "32     100056  2011-12-28         0       2  360000         3.0   \n",
       "\n",
       "   application_date  age  education  employed_by   ...     marital_status  \\\n",
       "17       2016-12-06   53          2            1   ...                  4   \n",
       "25       2016-08-27   50          2            1   ...                  1   \n",
       "27       2016-01-05   39          2           17   ...                  0   \n",
       "28       2015-11-27   67          0           25   ...                  3   \n",
       "32       2016-11-28   52          2           21   ...                  1   \n",
       "\n",
       "    position  contract_number   amount  term_month  annuity  contract_date  \\\n",
       "17       2.0           100684   979992          39    27077     2016-06-14   \n",
       "25       5.0           100052  1193580          37    35028     2016-08-30   \n",
       "27       9.0           100375   288873          21    16259     2016-02-05   \n",
       "28       NaN           100901   746280          20    42971     2015-03-12   \n",
       "32       5.0           100668  1506816          33    49928     2016-11-29   \n",
       "\n",
       "    type  default_date  default  \n",
       "17     0    2017-12-14        1  \n",
       "25     0    2017-12-30        1  \n",
       "27     0    2017-01-02        1  \n",
       "28     0    2016-11-03        1  \n",
       "32     0    2018-06-29        1  \n",
       "\n",
       "[5 rows x 24 columns]"
      ]
     },
     "execution_count": 23,
     "metadata": {},
     "output_type": "execute_result"
    }
   ],
   "source": [
    "borrowers_defaults.loc[borrowers_defaults['default'] == 1]"
   ]
  },
  {
   "cell_type": "markdown",
   "metadata": {},
   "source": [
    "### Пункт 3. Подготовка к пунктам (d) и (e)"
   ]
  },
  {
   "cell_type": "markdown",
   "metadata": {},
   "source": [
    "Создаём список переменных по таблице applications, добавляем к нему параметр default"
   ]
  },
  {
   "cell_type": "code",
   "execution_count": 24,
   "metadata": {},
   "outputs": [],
   "source": [
    "mycursor.execute(\"\"\"SELECT COLUMN_NAME FROM INFORMATION_SCHEMA.COLUMNS WHERE TABLE_SCHEMA = '{0}' AND \n",
    "TABLE_NAME = 'applications'\"\"\".format(mydatabase))\n",
    "applic_cols = mycursor.fetchall()\n",
    "all_applic_cols = []\n",
    "for i in range(0, len(applic_cols)):\n",
    "    all_applic_cols.append(applic_cols[i][0])\n",
    "all_applic_cols.append('default')"
   ]
  },
  {
   "cell_type": "markdown",
   "metadata": {},
   "source": [
    "Создаем список, чтобы удалить лишние в анализе переменные (можно корректировать), например, id, даты"
   ]
  },
  {
   "cell_type": "code",
   "execution_count": 25,
   "metadata": {},
   "outputs": [],
   "source": [
    "drop_list = ['id_number','application_date','issue_date']\n",
    "for i in drop_list:\n",
    "    all_applic_cols.remove(i)"
   ]
  },
  {
   "cell_type": "markdown",
   "metadata": {},
   "source": [
    "Все данные, которые понадобятся для анализа"
   ]
  },
  {
   "cell_type": "code",
   "execution_count": 26,
   "metadata": {},
   "outputs": [
    {
     "data": {
      "text/html": [
       "<div>\n",
       "<style scoped>\n",
       "    .dataframe tbody tr th:only-of-type {\n",
       "        vertical-align: middle;\n",
       "    }\n",
       "\n",
       "    .dataframe tbody tr th {\n",
       "        vertical-align: top;\n",
       "    }\n",
       "\n",
       "    .dataframe thead th {\n",
       "        text-align: right;\n",
       "    }\n",
       "</style>\n",
       "<table border=\"1\" class=\"dataframe\">\n",
       "  <thead>\n",
       "    <tr style=\"text-align: right;\">\n",
       "      <th></th>\n",
       "      <th>age</th>\n",
       "      <th>age_of_car</th>\n",
       "      <th>children</th>\n",
       "      <th>education</th>\n",
       "      <th>employed_by</th>\n",
       "      <th>family</th>\n",
       "      <th>gender</th>\n",
       "      <th>house_ownership</th>\n",
       "      <th>housing</th>\n",
       "      <th>income</th>\n",
       "      <th>income_type</th>\n",
       "      <th>marital_status</th>\n",
       "      <th>position</th>\n",
       "      <th>default</th>\n",
       "    </tr>\n",
       "  </thead>\n",
       "  <tbody>\n",
       "    <tr>\n",
       "      <th>0</th>\n",
       "      <td>50</td>\n",
       "      <td>NaN</td>\n",
       "      <td>0</td>\n",
       "      <td>0</td>\n",
       "      <td>14</td>\n",
       "      <td>2</td>\n",
       "      <td>0</td>\n",
       "      <td>0</td>\n",
       "      <td>0</td>\n",
       "      <td>270000</td>\n",
       "      <td>2</td>\n",
       "      <td>1</td>\n",
       "      <td>3.0</td>\n",
       "      <td>0</td>\n",
       "    </tr>\n",
       "    <tr>\n",
       "      <th>1</th>\n",
       "      <td>54</td>\n",
       "      <td>26.0</td>\n",
       "      <td>0</td>\n",
       "      <td>2</td>\n",
       "      <td>5</td>\n",
       "      <td>1</td>\n",
       "      <td>1</td>\n",
       "      <td>1</td>\n",
       "      <td>0</td>\n",
       "      <td>67500</td>\n",
       "      <td>3</td>\n",
       "      <td>3</td>\n",
       "      <td>5.0</td>\n",
       "      <td>0</td>\n",
       "    </tr>\n",
       "    <tr>\n",
       "      <th>2</th>\n",
       "      <td>55</td>\n",
       "      <td>NaN</td>\n",
       "      <td>0</td>\n",
       "      <td>2</td>\n",
       "      <td>13</td>\n",
       "      <td>1</td>\n",
       "      <td>1</td>\n",
       "      <td>1</td>\n",
       "      <td>0</td>\n",
       "      <td>121500</td>\n",
       "      <td>3</td>\n",
       "      <td>3</td>\n",
       "      <td>3.0</td>\n",
       "      <td>0</td>\n",
       "    </tr>\n",
       "    <tr>\n",
       "      <th>3</th>\n",
       "      <td>50</td>\n",
       "      <td>NaN</td>\n",
       "      <td>0</td>\n",
       "      <td>2</td>\n",
       "      <td>12</td>\n",
       "      <td>2</td>\n",
       "      <td>1</td>\n",
       "      <td>1</td>\n",
       "      <td>0</td>\n",
       "      <td>99000</td>\n",
       "      <td>2</td>\n",
       "      <td>1</td>\n",
       "      <td>5.0</td>\n",
       "      <td>0</td>\n",
       "    </tr>\n",
       "    <tr>\n",
       "      <th>4</th>\n",
       "      <td>40</td>\n",
       "      <td>17.0</td>\n",
       "      <td>1</td>\n",
       "      <td>0</td>\n",
       "      <td>1</td>\n",
       "      <td>3</td>\n",
       "      <td>0</td>\n",
       "      <td>1</td>\n",
       "      <td>0</td>\n",
       "      <td>171000</td>\n",
       "      <td>0</td>\n",
       "      <td>1</td>\n",
       "      <td>0.0</td>\n",
       "      <td>0</td>\n",
       "    </tr>\n",
       "  </tbody>\n",
       "</table>\n",
       "</div>"
      ],
      "text/plain": [
       "   age  age_of_car  children  education  employed_by  family  gender  \\\n",
       "0   50         NaN         0          0           14       2       0   \n",
       "1   54        26.0         0          2            5       1       1   \n",
       "2   55         NaN         0          2           13       1       1   \n",
       "3   50         NaN         0          2           12       2       1   \n",
       "4   40        17.0         1          0            1       3       0   \n",
       "\n",
       "   house_ownership  housing  income  income_type  marital_status  position  \\\n",
       "0                0        0  270000            2               1       3.0   \n",
       "1                1        0   67500            3               3       5.0   \n",
       "2                1        0  121500            3               3       3.0   \n",
       "3                1        0   99000            2               1       5.0   \n",
       "4                1        0  171000            0               1       0.0   \n",
       "\n",
       "   default  \n",
       "0        0  \n",
       "1        0  \n",
       "2        0  \n",
       "3        0  \n",
       "4        0  "
      ]
     },
     "execution_count": 26,
     "metadata": {},
     "output_type": "execute_result"
    }
   ],
   "source": [
    "borrowers_defaults_short = borrowers_defaults[all_applic_cols]\n",
    "borrowers_defaults_short.head()"
   ]
  },
  {
   "cell_type": "markdown",
   "metadata": {},
   "source": [
    "Создадим список категориальных переменных, чтобы в дальнейшим именно по ним строить WOE"
   ]
  },
  {
   "cell_type": "code",
   "execution_count": 27,
   "metadata": {},
   "outputs": [],
   "source": [
    "mycursor.execute(\"\"\"SELECT DISTINCT column_name FROM applications_dict\"\"\")\n",
    "char_vars =  mycursor.fetchall()\n",
    "list_char_vars = []\n",
    "for i in range(0, len(char_vars)):\n",
    "    list_char_vars.append(char_vars[i][0])\n",
    "additionally_append = ['family','children']  # что ещё считаем нужным рассматривать как категориальную\n",
    "for i in range (0, len(additionally_append)):\n",
    "    list_char_vars.append(additionally_append[i])"
   ]
  },
  {
   "cell_type": "markdown",
   "metadata": {},
   "source": [
    "Для вычисления метрик WOE, IV, за основу взят код из ресурса https://medium.com/@sundarstyles89/weight-of-evidence-and-information-value-using-python-6f05072e83eb с некоторыми преобразованиями. По всем категориальным переменным применяется стандартная процедура вычисления WOE и IV, для непрерывных первоначально производится разбиение на категории. Данный код  категоризует по квантилям."
   ]
  },
  {
   "cell_type": "code",
   "execution_count": 28,
   "metadata": {},
   "outputs": [],
   "source": [
    "# define a binning function\n",
    "def mono_bin(Y, X, max_bin, force_bin):\n",
    "    n = max_bin\n",
    "    df1 = pd.DataFrame({\"X\": X, \"Y\": Y})\n",
    "    justmiss = df1[['X','Y']][df1.X.isnull()]\n",
    "    notmiss = df1[['X','Y']][df1.X.notnull()]\n",
    "    r = 0\n",
    "    while np.abs(r) < 1:\n",
    "        try:\n",
    "            d1 = pd.DataFrame({\"X\": notmiss.X, \"Y\": notmiss.Y, \"Bucket\": pd.qcut(notmiss.X, n)})\n",
    "            d2 = d1.groupby('Bucket', as_index=True)\n",
    "            r, p = stats.spearmanr(d2.mean().X, d2.mean().Y)\n",
    "            n = n - 1 \n",
    "        except Exception as e:\n",
    "            n = n - 1\n",
    "\n",
    "    if len(d2) == 1:\n",
    "        n = force_bin         \n",
    "        bins = algos.quantile(notmiss.X, np.linspace(0, 1, n))\n",
    "        if len(np.unique(bins)) == 2:\n",
    "            bins = np.insert(bins, 0, 1)\n",
    "            bins[1] = bins[1]-(bins[1]/2)\n",
    "        d1 = pd.DataFrame({\"X\": notmiss.X, \"Y\": notmiss.Y, \"Bucket\": pd.cut(notmiss.X, np.unique(bins),include_lowest=True)}) \n",
    "        d2 = d1.groupby('Bucket', as_index=True)\n",
    "    \n",
    "    d3 = pd.DataFrame({},index=[])\n",
    "    d3[\"MIN_VALUE\"] = d2.min().X\n",
    "    d3[\"MAX_VALUE\"] = d2.max().X\n",
    "    d3[\"COUNT\"] = d2.count().Y\n",
    "    d3[\"EVENT\"] = d2.sum().Y\n",
    "    d3[\"NONEVENT\"] = d2.count().Y - d2.sum().Y\n",
    "    d3=d3.reset_index(drop=True)\n",
    "    \n",
    "    if len(justmiss.index) > 0:\n",
    "        d4 = pd.DataFrame({'MIN_VALUE':np.nan},index=[0])\n",
    "        d4[\"MAX_VALUE\"] = np.nan\n",
    "        d4[\"COUNT\"] = justmiss.count().Y\n",
    "        d4[\"EVENT\"] = justmiss.sum().Y\n",
    "        d4[\"NONEVENT\"] = justmiss.count().Y - justmiss.sum().Y\n",
    "        d3 = d3.append(d4,ignore_index=True, sort = True)\n",
    "    \n",
    "    d3[\"EVENT_RATE\"] = d3.EVENT/d3.COUNT\n",
    "    d3[\"NON_EVENT_RATE\"] = d3.NONEVENT/d3.COUNT\n",
    "    d3[\"DIST_EVENT\"] = d3.EVENT/d3.sum().EVENT\n",
    "    d3[\"DIST_NON_EVENT\"] = d3.NONEVENT/d3.sum().NONEVENT\n",
    "    np.seterr(divide='ignore')\n",
    "    d3[\"WOE\"] = np.log(d3.DIST_EVENT/d3.DIST_NON_EVENT)\n",
    "    np.seterr(divide='ignore')\n",
    "    d3[\"IV\"] = (d3.DIST_EVENT-d3.DIST_NON_EVENT)*np.log(d3.DIST_EVENT/d3.DIST_NON_EVENT)\n",
    "    d3[\"VAR_NAME\"] = \"VAR\"\n",
    "    d3[\"CATEGORY_NAME\"] = \"NO_CATEGORY\"\n",
    "\n",
    "    d3 = d3[['VAR_NAME', 'CATEGORY_NAME', 'MIN_VALUE', 'MAX_VALUE', 'COUNT', 'EVENT', 'EVENT_RATE', 'NONEVENT', 'NON_EVENT_RATE', \n",
    "             'DIST_EVENT','DIST_NON_EVENT','WOE', 'IV']]       \n",
    "    d3 = d3.replace([np.inf, -np.inf], 0)\n",
    "    d3.IV = d3.IV.sum()\n",
    "    \n",
    "    return(d3)\n",
    "\n",
    "def char_bin(Y, X):\n",
    "        \n",
    "    df1 = pd.DataFrame({\"X\": X, \"Y\": Y})\n",
    "    justmiss = df1[['X','Y']][df1.X.isnull()]\n",
    "    notmiss = df1[['X','Y']][df1.X.notnull()]    \n",
    "    df2 = notmiss.groupby('X',as_index=True)\n",
    "    \n",
    "    d3 = pd.DataFrame({},index=[])\n",
    "    d3[\"COUNT\"] = df2.count().Y\n",
    "    d3[\"MIN_VALUE\"] = df2.sum().Y.index\n",
    "    d3[\"MAX_VALUE\"] = d3[\"MIN_VALUE\"]\n",
    "    d3[\"EVENT\"] = df2.sum().Y\n",
    "    d3[\"NONEVENT\"] = df2.count().Y - df2.sum().Y\n",
    "    \n",
    "    if len(justmiss.index) > 0:\n",
    "        d4 = pd.DataFrame({'MIN_VALUE':np.nan},index=[0])\n",
    "        d4[\"MAX_VALUE\"] = np.nan\n",
    "        d4[\"COUNT\"] = justmiss.count().Y\n",
    "        d4[\"EVENT\"] = justmiss.sum().Y\n",
    "        d4[\"NONEVENT\"] = justmiss.count().Y - justmiss.sum().Y\n",
    "        d3 = d3.append(d4,ignore_index=True, sort = True)\n",
    "    \n",
    "    d3[\"EVENT_RATE\"] = d3.EVENT/d3.COUNT\n",
    "    d3[\"NON_EVENT_RATE\"] = d3.NONEVENT/d3.COUNT\n",
    "    d3[\"DIST_EVENT\"] = d3.EVENT/d3.sum().EVENT\n",
    "    d3[\"DIST_NON_EVENT\"] = d3.NONEVENT/d3.sum().NONEVENT\n",
    "    np.seterr(divide='ignore')\n",
    "    d3[\"WOE\"] = np.log(d3.DIST_EVENT/d3.DIST_NON_EVENT)\n",
    "    np.seterr(divide='ignore')\n",
    "    d3[\"IV\"] = (d3.DIST_EVENT-d3.DIST_NON_EVENT)*np.log(d3.DIST_EVENT/d3.DIST_NON_EVENT)\n",
    "    d3[\"VAR_NAME\"] = \"VAR\"\n",
    "    d3[\"CATEGORY_NAME\"] = \"NO_CATEGORY\"\n",
    "    d3 = d3[['VAR_NAME','CATEGORY_NAME','MIN_VALUE', 'MAX_VALUE', 'COUNT', 'EVENT', 'EVENT_RATE', 'NONEVENT', 'NON_EVENT_RATE', 'DIST_EVENT','DIST_NON_EVENT','WOE', 'IV']]      \n",
    "    d3 = d3.replace([np.inf, -np.inf], 0)\n",
    "    d3.IV = d3.IV.sum()\n",
    "    d3 = d3.reset_index(drop=True)\n",
    "    \n",
    "    return(d3)\n",
    "\n",
    "def data_vars(df1, default, max_bin, force_bin):\n",
    "    \n",
    "    stack = traceback.extract_stack()\n",
    "    filename, lineno, function_name, code = stack[-2]\n",
    "    vars_name = re.compile(r'\\((.*?)\\).*$').search(code).groups()[0]\n",
    "    final = (re.findall(r\"[\\w']+\", vars_name))[-1]\n",
    "    \n",
    "    x = df1.dtypes.index\n",
    "    count = -1\n",
    "    \n",
    "    for i in x:\n",
    "        if i.upper() not in (final.upper()):\n",
    "            if np.issubdtype(df1[i], np.number) and len(Series.unique(df1[i])) > 2 and i not in list_char_vars:\n",
    "                conv = mono_bin(default, df1[i], max_bin, force_bin)\n",
    "                conv[\"VAR_NAME\"] = i\n",
    "                for j in range(0, len(conv)):\n",
    "                    conv.iloc[j, conv.columns.get_loc('CATEGORY_NAME')] = str(conv['MIN_VALUE'][j])+' - '+str(conv['MAX_VALUE'][j])\n",
    "                \n",
    "                count = count + 1\n",
    "            else:\n",
    "                conv = char_bin(default, df1[i])\n",
    "                conv[\"VAR_NAME\"] = i\n",
    "                if i not in additionally_append:\n",
    "                    mycursor.execute(\"\"\"SELECT category, encoding FROM applications_dict WHERE column_name = '{0}' \"\"\".format(i))\n",
    "                    keys = mycursor.fetchall()\n",
    "\n",
    "                    for j in range(0, len(keys)):\n",
    "                        conv.loc[conv['MIN_VALUE'] == keys[j][1], 'CATEGORY_NAME'] =  keys[j][0]\n",
    "                else:\n",
    "                    for j in range(0, len(conv)):\n",
    "                        conv.iloc[j, conv.columns.get_loc('CATEGORY_NAME')] = str(conv['MIN_VALUE'][j])\n",
    "                \n",
    "                count = count + 1\n",
    "                \n",
    "            if count == 0:\n",
    "                iv_df = conv\n",
    "            else:\n",
    "                iv_df = iv_df.append(conv,ignore_index=True)\n",
    "    \n",
    "    iv = pd.DataFrame({'IV':iv_df.groupby('VAR_NAME').IV.max()})\n",
    "    iv = iv.reset_index()\n",
    "    return(iv_df,iv) "
   ]
  },
  {
   "cell_type": "markdown",
   "metadata": {},
   "source": [
    "Данная функция строит ROC-кривую по переменной"
   ]
  },
  {
   "cell_type": "code",
   "execution_count": 29,
   "metadata": {},
   "outputs": [],
   "source": [
    "def ROC1 (var_name, max_tresholds):\n",
    "        less_then_treshold  = 0\n",
    "        more_then_treshold  = 1\n",
    "        TPR = []\n",
    "        FPR = []\n",
    "        defaults_true = list(borrowers_defaults_short.default)\n",
    "        defaults_classified = pd.DataFrame(borrowers_defaults_short[var_name])\n",
    "        tresholds = np.arange(borrowers_defaults_short[[var_name]].min()[0],borrowers_defaults_short[[var_name]].max()[0]+2,\n",
    "                              (borrowers_defaults_short[[var_name]].max()[0]-\n",
    "                               borrowers_defaults_short[[var_name]].min()[0])/(max_tresholds-1))\n",
    "       \n",
    "        for i in tresholds:\n",
    "\n",
    "            TP = 0\n",
    "            TN = 0\n",
    "            FP = 0\n",
    "            FN = 0\n",
    "            \n",
    "            defaults_classified.loc[defaults_classified[var_name] < i, 'defaults_classified'] = less_then_treshold\n",
    "            defaults_classified.loc[defaults_classified[var_name] >= i, 'defaults_classified'] = more_then_treshold\n",
    "            \n",
    "            for j in range(0, len(defaults_classified)):\n",
    "                if defaults_classified['defaults_classified'][j] == 1 and defaults_true[j] == 1:\n",
    "                    TP += 1\n",
    "                if defaults_classified['defaults_classified'][j] == 0 and defaults_true[j] == 0:\n",
    "                    TN += 1\n",
    "                if defaults_classified['defaults_classified'][j] == 1 and defaults_true[j] == 0:\n",
    "                    FP += 1  \n",
    "                if defaults_classified['defaults_classified'][j] == 0 and defaults_true[j] == 1:\n",
    "                    FN += 1\n",
    "\n",
    "            TPR_tr = TP/(TP+FN)\n",
    "            FPR_tr = FP/(FP+TN)\n",
    "            \n",
    "            TPR.append(TPR_tr)\n",
    "            FPR.append(FPR_tr)\n",
    "            \n",
    "        ROC_AUC = metrics.auc(FPR,TPR)\n",
    "        GINI = 2*ROC_AUC-1    \n",
    "        return TPR, FPR, GINI"
   ]
  },
  {
   "cell_type": "code",
   "execution_count": 30,
   "metadata": {},
   "outputs": [],
   "source": [
    "def ROC2 (var_name, treshold):\n",
    "        less_than_treshold  = 0\n",
    "        more_than_treshold  = 1\n",
    "        defaults_true = list(borrowers_defaults_short.default)\n",
    "        defaults_classified = pd.DataFrame(borrowers_defaults_short[var_name])\n",
    "        defaults_classified.loc[defaults_classified[var_name] < treshold, 'defaults_classified'] = less_than_treshold\n",
    "        defaults_classified.loc[defaults_classified[var_name] >= treshold, 'defaults_classified'] = more_than_treshold\n",
    "        defaults_classified = list(defaults_classified.defaults_classified)\n",
    "        FPR, TPR, thresholds = metrics.roc_curve(defaults_true, defaults_classified)\n",
    "        ROC_AUC = metrics.auc(FPR,TPR)\n",
    "        GINI = 2*ROC_AUC-1\n",
    "        return TPR, FPR, GINI"
   ]
  },
  {
   "cell_type": "markdown",
   "metadata": {},
   "source": [
    "Данная функция строит графики в зависимости от того, какой тип переменной и графика выбран, а также их параметров"
   ]
  },
  {
   "cell_type": "code",
   "execution_count": 31,
   "metadata": {},
   "outputs": [],
   "source": [
    "def plot_metric(var_name, graph_type):\n",
    "    if var_name in list_char_vars and graph_type == 'ROC':\n",
    "        print()\n",
    "        print('Для категориальной переменной не строится ROC-кривая, будет построен график WOE')\n",
    "        graph_type = 'WOE'\n",
    "    if graph_type == 'WOE':\n",
    "        small_df = final_iv[final_iv['VAR_NAME'] == var_name]\n",
    "        display(small_df)\n",
    "        fig = plt.figure(1, [10, 5])\n",
    "        plt.bar(small_df['CATEGORY_NAME'], small_df['WOE'])\n",
    "        plt.title('WOE for '+ var_name)\n",
    "        plt.grid(True)\n",
    "        plt.xlabel('Category', fontdict=None, labelpad=15)\n",
    "        plt.ylabel('WOE', fontdict=None, labelpad=15)\n",
    "        if small_df.shape[0] <= 4:\n",
    "            rotation_type = 'horizontal'\n",
    "        else:\n",
    "            rotation_type = 'vertical'\n",
    "        plt.xticks(rotation=rotation_type)\n",
    "\n",
    "    if graph_type == 'ROC' and var_name not in list_char_vars:\n",
    "        TPR, FPR, GINI = ROC1(var_name, max_tresholds)\n",
    "       # TPR, FPR, GINI = ROC2(var_name, treshold)\n",
    "        fig = plt.figure(1, [10, 5])        \n",
    "        plt.xlabel('False Positive Rate', fontdict=None, labelpad=15)\n",
    "        plt.ylabel('True Positive Rate', fontdict=None, labelpad=15)\n",
    "        plt.plot([0, 1], [0, 1], color='navy', linestyle='--')\n",
    "        plt.xlim([0.0, 1.0])\n",
    "        plt.ylim([0.0, 1.05])\n",
    "        plt.title('ROC for '+var_name)\n",
    "        plt.plot(FPR, TPR, color='blue', lw=2, label='GINI=%0.2f'% GINI)\n",
    "        plt.legend(loc=\"lower right\")\n",
    "        plt.show()"
   ]
  },
  {
   "cell_type": "markdown",
   "metadata": {},
   "source": [
    "### Пункт 3 (d+e). Выбор переменной из таблицы applications и построение метрики"
   ]
  },
  {
   "cell_type": "markdown",
   "metadata": {},
   "source": [
    "#### В ячейку ниже впишите по образцу:\n",
    "* в переменную **_var__name_** желаемую переменную из таблицы applications. Список предлагаемых переменных предложен под ячейкой для ввода\n",
    "* в переменную **_graph__type_** тип метрики, которую вы хотите построить. Вписать можно либо значение **_'ROC'_** для непрерывных переменных, либо значение **_'WOE'_** для категориальных переменных, либо для категоризируемых по квантилям в ходе выполнения кода непрерывных переменных.<br><br>\n",
    "Если вы выбрали построение **_'ROC'_**:<br><br>\n",
    "* в переменную **_max__tresholds_** максимальное количество порогов отсечения, используемых при построении ROC (влияет как на качество построения, так и на скорость исполнения, можете оставить дефолтное значение 1000)<br><br>\n",
    "Если вы выбрали построение **_'WOE'_** по непрерывной переменной:<br><br>\n",
    "* в переменную **_max__bin_** максимальное число категорий, которое вы хотите получить\n",
    "* в переменную **_force__bin_** минимальное число категорий, которое вы хотите получить<br><br>\n",
    "По умолчанию ниже приведен пример для категориальной переменной, а после этого в самом конце - для непрерывной "
   ]
  },
  {
   "cell_type": "markdown",
   "metadata": {},
   "source": [
    "#### Пример WOE и IV для категоризированного возраста"
   ]
  },
  {
   "cell_type": "code",
   "execution_count": 32,
   "metadata": {},
   "outputs": [],
   "source": [
    "var_name = 'age'\n",
    "graph_type = 'WOE'\n",
    "treshold = statistics.median(list(borrowers_defaults_short[var_name])) # если ROC\n",
    "max_bin = 10 # если WOE и разбиваем на бакеты\n",
    "force_bin = 5 # если WOE и разбиваем на бакеты\n",
    "max_tresholds = 100"
   ]
  },
  {
   "cell_type": "code",
   "execution_count": 33,
   "metadata": {},
   "outputs": [
    {
     "data": {
      "text/plain": [
       "['age',\n",
       " 'age_of_car',\n",
       " 'children',\n",
       " 'education',\n",
       " 'employed_by',\n",
       " 'family',\n",
       " 'gender',\n",
       " 'house_ownership',\n",
       " 'housing',\n",
       " 'income',\n",
       " 'income_type',\n",
       " 'marital_status',\n",
       " 'position']"
      ]
     },
     "execution_count": 33,
     "metadata": {},
     "output_type": "execute_result"
    }
   ],
   "source": [
    "list(borrowers_defaults_short.loc[:, borrowers_defaults_short.columns != 'default'])"
   ]
  },
  {
   "cell_type": "code",
   "execution_count": 34,
   "metadata": {},
   "outputs": [],
   "source": [
    "if graph_type == 'WOE':\n",
    "    force_bin = force_bin+1\n",
    "    final_iv, IV = data_vars(borrowers_defaults_short.drop('default', axis=1),borrowers_defaults.default, max_bin, force_bin)"
   ]
  },
  {
   "cell_type": "markdown",
   "metadata": {},
   "source": [
    "Выполним построение для выбранной переменной (к графику WOE прилагается таблица):"
   ]
  },
  {
   "cell_type": "code",
   "execution_count": 35,
   "metadata": {},
   "outputs": [
    {
     "data": {
      "text/html": [
       "<div>\n",
       "<style scoped>\n",
       "    .dataframe tbody tr th:only-of-type {\n",
       "        vertical-align: middle;\n",
       "    }\n",
       "\n",
       "    .dataframe tbody tr th {\n",
       "        vertical-align: top;\n",
       "    }\n",
       "\n",
       "    .dataframe thead th {\n",
       "        text-align: right;\n",
       "    }\n",
       "</style>\n",
       "<table border=\"1\" class=\"dataframe\">\n",
       "  <thead>\n",
       "    <tr style=\"text-align: right;\">\n",
       "      <th></th>\n",
       "      <th>VAR_NAME</th>\n",
       "      <th>CATEGORY_NAME</th>\n",
       "      <th>MIN_VALUE</th>\n",
       "      <th>MAX_VALUE</th>\n",
       "      <th>COUNT</th>\n",
       "      <th>EVENT</th>\n",
       "      <th>EVENT_RATE</th>\n",
       "      <th>NONEVENT</th>\n",
       "      <th>NON_EVENT_RATE</th>\n",
       "      <th>DIST_EVENT</th>\n",
       "      <th>DIST_NON_EVENT</th>\n",
       "      <th>WOE</th>\n",
       "      <th>IV</th>\n",
       "    </tr>\n",
       "  </thead>\n",
       "  <tbody>\n",
       "    <tr>\n",
       "      <th>0</th>\n",
       "      <td>age</td>\n",
       "      <td>21 - 35</td>\n",
       "      <td>21.0</td>\n",
       "      <td>35.0</td>\n",
       "      <td>10</td>\n",
       "      <td>0.0</td>\n",
       "      <td>0.000000</td>\n",
       "      <td>10.0</td>\n",
       "      <td>1.000000</td>\n",
       "      <td>0.0</td>\n",
       "      <td>0.243902</td>\n",
       "      <td>0.000000</td>\n",
       "      <td>0.195554</td>\n",
       "    </tr>\n",
       "    <tr>\n",
       "      <th>1</th>\n",
       "      <td>age</td>\n",
       "      <td>36 - 41</td>\n",
       "      <td>36.0</td>\n",
       "      <td>41.0</td>\n",
       "      <td>9</td>\n",
       "      <td>1.0</td>\n",
       "      <td>0.111111</td>\n",
       "      <td>8.0</td>\n",
       "      <td>0.888889</td>\n",
       "      <td>0.2</td>\n",
       "      <td>0.195122</td>\n",
       "      <td>0.024693</td>\n",
       "      <td>0.195554</td>\n",
       "    </tr>\n",
       "    <tr>\n",
       "      <th>2</th>\n",
       "      <td>age</td>\n",
       "      <td>43 - 50</td>\n",
       "      <td>43.0</td>\n",
       "      <td>50.0</td>\n",
       "      <td>9</td>\n",
       "      <td>1.0</td>\n",
       "      <td>0.111111</td>\n",
       "      <td>8.0</td>\n",
       "      <td>0.888889</td>\n",
       "      <td>0.2</td>\n",
       "      <td>0.195122</td>\n",
       "      <td>0.024693</td>\n",
       "      <td>0.195554</td>\n",
       "    </tr>\n",
       "    <tr>\n",
       "      <th>3</th>\n",
       "      <td>age</td>\n",
       "      <td>51 - 55</td>\n",
       "      <td>51.0</td>\n",
       "      <td>55.0</td>\n",
       "      <td>9</td>\n",
       "      <td>2.0</td>\n",
       "      <td>0.222222</td>\n",
       "      <td>7.0</td>\n",
       "      <td>0.777778</td>\n",
       "      <td>0.4</td>\n",
       "      <td>0.170732</td>\n",
       "      <td>0.851371</td>\n",
       "      <td>0.195554</td>\n",
       "    </tr>\n",
       "    <tr>\n",
       "      <th>4</th>\n",
       "      <td>age</td>\n",
       "      <td>56 - 67</td>\n",
       "      <td>56.0</td>\n",
       "      <td>67.0</td>\n",
       "      <td>9</td>\n",
       "      <td>1.0</td>\n",
       "      <td>0.111111</td>\n",
       "      <td>8.0</td>\n",
       "      <td>0.888889</td>\n",
       "      <td>0.2</td>\n",
       "      <td>0.195122</td>\n",
       "      <td>0.024693</td>\n",
       "      <td>0.195554</td>\n",
       "    </tr>\n",
       "  </tbody>\n",
       "</table>\n",
       "</div>"
      ],
      "text/plain": [
       "  VAR_NAME CATEGORY_NAME  MIN_VALUE  MAX_VALUE  COUNT  EVENT  EVENT_RATE  \\\n",
       "0      age       21 - 35       21.0       35.0     10    0.0    0.000000   \n",
       "1      age       36 - 41       36.0       41.0      9    1.0    0.111111   \n",
       "2      age       43 - 50       43.0       50.0      9    1.0    0.111111   \n",
       "3      age       51 - 55       51.0       55.0      9    2.0    0.222222   \n",
       "4      age       56 - 67       56.0       67.0      9    1.0    0.111111   \n",
       "\n",
       "   NONEVENT  NON_EVENT_RATE  DIST_EVENT  DIST_NON_EVENT       WOE        IV  \n",
       "0      10.0        1.000000         0.0        0.243902  0.000000  0.195554  \n",
       "1       8.0        0.888889         0.2        0.195122  0.024693  0.195554  \n",
       "2       8.0        0.888889         0.2        0.195122  0.024693  0.195554  \n",
       "3       7.0        0.777778         0.4        0.170732  0.851371  0.195554  \n",
       "4       8.0        0.888889         0.2        0.195122  0.024693  0.195554  "
      ]
     },
     "metadata": {},
     "output_type": "display_data"
    },
    {
     "data": {
      "image/png": "[encoded data removed]",
      "text/plain": [
       "<Figure size 720x360 with 1 Axes>"
      ]
     },
     "metadata": {
      "needs_background": "light"
     },
     "output_type": "display_data"
    }
   ],
   "source": [
    "plot_metric(var_name, graph_type)"
   ]
  },
  {
   "cell_type": "markdown",
   "metadata": {},
   "source": [
    "При выборе построения WOE также будет выводиться столбчатая диаграмма значений IV по убыванию для всех переменных"
   ]
  },
  {
   "cell_type": "code",
   "execution_count": 36,
   "metadata": {},
   "outputs": [
    {
     "data": {
      "image/png": "[encoded data removed]",
      "text/plain": [
       "<Figure size 1008x576 with 1 Axes>"
      ]
     },
     "metadata": {
      "needs_background": "light"
     },
     "output_type": "display_data"
    }
   ],
   "source": [
    "if graph_type == 'WOE':\n",
    "    IV_sort = IV.sort_values('IV')\n",
    "    iv_scores = np.array(IV_sort['IV'])\n",
    "    data_normalizer = matplotlib.colors.Normalize()\n",
    "    color_map = matplotlib.colors.LinearSegmentedColormap(\"my_map\",{\"red\": [(0, 1.0, 1.0),(1.0, .5, .5)],\n",
    "                                                                    \"green\": [(0, 0.5, 0.5),(1.0, 0, 0)],\n",
    "                                                                    \"blue\": [(0, 0.50, 0.5),(1.0, 0, 0)]})\n",
    "\n",
    "    N = len(IV_sort['IV'])\n",
    "    x_nums = np.arange(1, N+1)\n",
    "\n",
    "    fig = plt.figure(1, [14, 8]) \n",
    "    plt.barh(x_nums, IV_sort['IV'], align=\"center\", color=color_map(data_normalizer(iv_scores)))\n",
    "    plt.yticks(x_nums, IV_sort['VAR_NAME'],  fontweight='bold')\n",
    "    for i, v in enumerate(iv_scores):\n",
    "        #v = round(Decimal(v),2)\n",
    "        plt.text(v+0.01, i+0.9, str(round(Decimal(v),2)), color='black',  fontweight='bold')\n",
    "    plt.title('IV значения для всех переменных', fontweight='bold')\n",
    "    plt.show()"
   ]
  },
  {
   "cell_type": "markdown",
   "metadata": {},
   "source": [
    "#### Пример ROC для непрерывного income"
   ]
  },
  {
   "cell_type": "code",
   "execution_count": 37,
   "metadata": {},
   "outputs": [],
   "source": [
    "var_name = 'income'\n",
    "graph_type = 'ROC'\n",
    "treshold = statistics.median(list(borrowers_defaults_short[var_name])) # если ROC\n",
    "max_bin = 10 # если WOE и разбиваем на бакеты\n",
    "force_bin = 5 # если WOE и разбиваем на бакеты\n",
    "max_tresholds = 1000"
   ]
  },
  {
   "cell_type": "code",
   "execution_count": 38,
   "metadata": {},
   "outputs": [],
   "source": [
    "if graph_type == 'WOE':\n",
    "    force_bin = force_bin+1\n",
    "    final_iv, IV = data_vars(borrowers_defaults_short,borrowers_defaults.default, max_bin, force_bin)"
   ]
  },
  {
   "cell_type": "code",
   "execution_count": 39,
   "metadata": {},
   "outputs": [
    {
     "data": {
      "image/png": "[encoded data removed]",
      "text/plain": [
       "<Figure size 720x360 with 1 Axes>"
      ]
     },
     "metadata": {
      "needs_background": "light"
     },
     "output_type": "display_data"
    }
   ],
   "source": [
    "plot_metric(var_name, graph_type)"
   ]
  },
  {
   "cell_type": "code",
   "execution_count": 40,
   "metadata": {},
   "outputs": [],
   "source": [
    "if graph_type == 'WOE':\n",
    "    IV_sort = IV.sort_values('IV')\n",
    "    iv_scores = np.array(IV_sort['IV'])\n",
    "    data_normalizer = matplotlib.colors.Normalize()\n",
    "    color_map = matplotlib.colors.LinearSegmentedColormap(\"my_map\",{\"red\": [(0, 1.0, 1.0),(1.0, .5, .5)],\n",
    "                                                                    \"green\": [(0, 0.5, 0.5),(1.0, 0, 0)],\n",
    "                                                                    \"blue\": [(0, 0.50, 0.5),(1.0, 0, 0)]})\n",
    "\n",
    "    N = len(IV_sort['IV'])\n",
    "    x_nums = np.arange(1, N+1)\n",
    "\n",
    "    fig = plt.figure(1, [14, 8]) \n",
    "    plt.barh(x_nums, IV_sort['IV'], align=\"center\", color=color_map(data_normalizer(iv_scores)))\n",
    "    plt.yticks(x_nums, IV_sort['VAR_NAME'],  fontweight='bold')\n",
    "    for i, v in enumerate(iv_scores):\n",
    "        #v = round(Decimal(v),2)\n",
    "        plt.text(v+0.01, i+0.9, str(round(Decimal(v),2)), color='black',  fontweight='bold')\n",
    "    plt.title('IV значения для всех переменных', fontweight='bold')\n",
    "    plt.show()"
   ]
  },
  {
   "cell_type": "code",
   "execution_count": 41,
   "metadata": {},
   "outputs": [],
   "source": [
    "database.close()"
   ]
  },
  {
   "cell_type": "code",
   "execution_count": null,
   "metadata": {},
   "outputs": [],
   "source": []
  }
 ],
 "metadata": {
  "kernelspec": {
   "display_name": "Python 3",
   "language": "python",
   "name": "python3"
  },
  "language_info": {
   "codemirror_mode": {
    "name": "ipython",
    "version": 3
   },
   "file_extension": ".py",
   "mimetype": "text/x-python",
   "name": "python",
   "nbconvert_exporter": "python",
   "pygments_lexer": "ipython3",
   "version": "3.7.0"
  }
 },
 "nbformat": 4,
 "nbformat_minor": 2
}
